{
 "cells": [
  {
   "cell_type": "markdown",
   "id": "9cacd9e4",
   "metadata": {
    "id": "9cacd9e4"
   },
   "source": [
    "# Data Types\n",
    "- Write solution of each question in the cell given below the corresponsing question."
   ]
  },
  {
   "cell_type": "markdown",
   "id": "a36a3683",
   "metadata": {
    "id": "a36a3683"
   },
   "source": [
    "#### 1. Write a program to take principal amount, rate and interest as input and calculate simple interest."
   ]
  },
  {
   "cell_type": "code",
   "execution_count": 7,
   "id": "z6EiFHNI8sCg",
   "metadata": {
    "colab": {
     "base_uri": "https://localhost:8080/"
    },
    "executionInfo": {
     "elapsed": 10576,
     "status": "ok",
     "timestamp": 1675784300390,
     "user": {
      "displayName": "N Akash",
      "userId": "10398409566081282158"
     },
     "user_tz": -330
    },
    "id": "z6EiFHNI8sCg",
    "outputId": "cb3ec5fc-af97-4bfd-e9d0-72442cd4338e"
   },
   "outputs": [
    {
     "name": "stdout",
     "output_type": "stream",
     "text": [
      "Enter the amount : 3000\n",
      "Enter the rate of interest : 12\n",
      "Enter the duration for the interest : 1\n",
      "The simple interest =  360.0\n"
     ]
    }
   ],
   "source": [
    "amount = int(input('Enter the amount : '))                   #Enter the amount\n",
    "rate = int(input('Enter the rate of interest : '))           #Enter the rate of interest\n",
    "time = int(input('Enter the year for the interest : '))      #Enter the duration for the rate of interest\n",
    "\n",
    "#Simple interest = principle amount * rate of interest * time interval  ----> Formula to calculate Simple interest\n",
    "\n",
    "S = (amount*rate*time)/100                                   #----> Formula to calculate Simple interest\n",
    "\n",
    "print('The simple interest = ', S)"
   ]
  },
  {
   "cell_type": "code",
   "execution_count": 1,
   "id": "46e83d01",
   "metadata": {
    "colab": {
     "base_uri": "https://localhost:8080/"
    },
    "executionInfo": {
     "elapsed": 10576,
     "status": "ok",
     "timestamp": 1675784300390,
     "user": {
      "displayName": "N Akash",
      "userId": "10398409566081282158"
     },
     "user_tz": -330
    },
    "id": "z6EiFHNI8sCg",
    "outputId": "cb3ec5fc-af97-4bfd-e9d0-72442cd4338e"
   },
   "outputs": [
    {
     "name": "stdout",
     "output_type": "stream",
     "text": [
      "Enter the amount : 5000\n",
      "Enter the rate of interest : 20\n",
      "Enter the year for the interest : 1\n",
      "The simple interest =  1000.0\n"
     ]
    }
   ],
   "source": [
    "amount = int(input('Enter the amount : '))                   #Enter the amount\n",
    "rate = int(input('Enter the rate of interest : '))           #Enter the rate of interest\n",
    "time = int(input('Enter the year for the interest : '))      #Enter the duration for the rate of interest\n",
    "\n",
    "#Simple interest = principle amount * rate of interest * time interval --> Formula to calculate Simple interest\n",
    "\n",
    "SI = (amount*rate*time)/100                                   # Formula to calculate Simple interest\n",
    "\n",
    "print('The simple interest = ', SI)"
   ]
  },
  {
   "cell_type": "markdown",
   "id": "3a9994e0",
   "metadata": {
    "id": "3a9994e0"
   },
   "source": [
    "#### 2. Write a program that takes a string as input and prints the number of words in the string."
   ]
  },
  {
   "cell_type": "code",
   "execution_count": 42,
   "id": "SQokqn-Pm7Zv",
   "metadata": {
    "colab": {
     "base_uri": "https://localhost:8080/"
    },
    "executionInfo": {
     "elapsed": 17412,
     "status": "ok",
     "timestamp": 1675786508691,
     "user": {
      "displayName": "N Akash",
      "userId": "10398409566081282158"
     },
     "user_tz": -330
    },
    "id": "SQokqn-Pm7Zv",
    "outputId": "065225c4-64e8-4e76-89f4-e653f9e2310c"
   },
   "outputs": [
    {
     "name": "stdout",
     "output_type": "stream",
     "text": [
      "Enter the command : I will definetly become a data scientist\n",
      "Total number of words in the given string:  7\n"
     ]
    }
   ],
   "source": [
    "x = str(input(\"Enter the command : \"))                    # Enter the string to get counted\n",
    "Count = 0;  \n",
    "   \n",
    "for i in range(0, len(x)-1):                              # Runs for loop from starting to last of string\n",
    "\n",
    "    if(x[i] == ' ' and x[i+1].isalpha() and (i > 0)):     # Condition\n",
    "        Count = Count + 1;   \n",
    "Count = Count + 1;  \n",
    "    \n",
    "print(\"Total number of words in the given string: \",  str(Count))    #Displays the total number of words present in the given string "
   ]
  },
  {
   "cell_type": "code",
   "execution_count": 1,
   "id": "f30713db",
   "metadata": {
    "colab": {
     "base_uri": "https://localhost:8080/"
    },
    "executionInfo": {
     "elapsed": 17412,
     "status": "ok",
     "timestamp": 1675786508691,
     "user": {
      "displayName": "N Akash",
      "userId": "10398409566081282158"
     },
     "user_tz": -330
    },
    "id": "SQokqn-Pm7Zv",
    "outputId": "065225c4-64e8-4e76-89f4-e653f9e2310c"
   },
   "outputs": [
    {
     "name": "stdin",
     "output_type": "stream",
     "text": [
      "Enter the command :  3rd que from l2\n"
     ]
    },
    {
     "name": "stdout",
     "output_type": "stream",
     "text": [
      "Total number of words in the given string:  4\n"
     ]
    }
   ],
   "source": [
    "x = str(input(\"Enter the command : \"))                    # Enter the string to get counted\n",
    "Count = 0;  \n",
    "   \n",
    "for i in range(0, len(x)-1):                              # Runs for loop from starting to last of string\n",
    "\n",
    "    if(x[i] == ' ' and x[i+1].isalpha() and (i > 0)):     # Condition\n",
    "        Count = Count + 1;   \n",
    "Count = Count + 1;  \n",
    "    \n",
    "print(\"Total number of words in the given string: \",  str(Count))    #Displays the total number of words present in the given string "
   ]
  },
  {
   "cell_type": "markdown",
   "id": "8a8d5e27",
   "metadata": {
    "id": "8a8d5e27"
   },
   "source": [
    "#### 3. Write a program to take a list of numbers as input (in a single line) and print the sum, avg, max and min elements."
   ]
  },
  {
   "cell_type": "code",
   "execution_count": 54,
   "id": "lLtHVeEC8utA",
   "metadata": {
    "colab": {
     "base_uri": "https://localhost:8080/"
    },
    "executionInfo": {
     "elapsed": 861,
     "status": "ok",
     "timestamp": 1675787534020,
     "user": {
      "displayName": "N Akash",
      "userId": "10398409566081282158"
     },
     "user_tz": -330
    },
    "id": "lLtHVeEC8utA",
    "outputId": "a3b77d80-b5ba-4be8-99c5-ecda5c2a2163"
   },
   "outputs": [
    {
     "name": "stdout",
     "output_type": "stream",
     "text": [
      "[]\n"
     ]
    }
   ],
   "source": [
    "# x = int(input(\"How many numbers you wanna add to list : \" ))\n",
    "# y = int(input('Enter the number : '))\n",
    "\n",
    "a =[]\n",
    "\n",
    "for i in a:\n",
    "  a = i.append() \n",
    "print(a)\n"
   ]
  },
  {
   "cell_type": "code",
   "execution_count": 4,
   "id": "91ab4f57-59f5-4f91-b103-9dcb0368819b",
   "metadata": {},
   "outputs": [
    {
     "name": "stdin",
     "output_type": "stream",
     "text": [
      "how many numbers you wanna add to list :  4\n",
      "enter the numbers:  45\n",
      "enter the numbers:  46\n",
      "enter the numbers:  12\n",
      "enter the numbers:  13\n"
     ]
    },
    {
     "name": "stdout",
     "output_type": "stream",
     "text": [
      "Sum: 116\n",
      "Average: 29.0\n",
      "Max: 46\n",
      "Min 12\n"
     ]
    }
   ],
   "source": [
    "a=[]\n",
    "x=int(input(\"how many numbers you wanna add to list : \"))\n",
    "for i in range(x):\n",
    "    y=int(input(\"enter the numbers: \"))\n",
    "    a.append(y)\n",
    "    \n",
    "sum = 0\n",
    "max =a[0]\n",
    "min =a[0]\n",
    "\n",
    "for y in a:\n",
    "    sum+=y\n",
    "    if y>max:\n",
    "        max=y\n",
    "    if y<min:\n",
    "        min=y\n",
    "        \n",
    "avg= sum / len(a)\n",
    "    \n",
    "print(\"Sum:\",sum)\n",
    "print(\"Average:\",avg)\n",
    "print(\"Max:\",max)\n",
    "print(\"Min\",min)\n"
   ]
  },
  {
   "cell_type": "code",
   "execution_count": null,
   "id": "8ee2c515-8c48-4082-986e-918673be6248",
   "metadata": {
    "id": "17dbd6e8"
   },
   "outputs": [],
   "source": [
    "4. Write a program to take the marks of 3 studets in five subjects each as a list (one list for each input) as input and print the average score of each student.."
   ]
  },
  {
   "cell_type": "code",
   "execution_count": 15,
   "id": "Olics1_krMwN",
   "metadata": {
    "id": "Olics1_krMwN"
   },
   "outputs": [
    {
     "name": "stdin",
     "output_type": "stream",
     "text": [
      "enter marks for student 1 in subject1: 45\n",
      "enter marks for student 1 in subject1: 46\n",
      "enter marks for student 1 in subject1: 47\n",
      "enter marks for student 1 in subject1: 48\n",
      "enter marks for student 1 in subject1: 49\n",
      "enter marks for student 2 in subject1: 50\n",
      "enter marks for student 2 in subject1: 551\n",
      "enter marks for student 2 in subject1: 52\n",
      "enter marks for student 2 in subject1: 53\n",
      "enter marks for student 2 in subject1: 54\n",
      "enter marks for student 3 in subject1: 55\n",
      "enter marks for student 3 in subject1: 56\n",
      "enter marks for student 3 in subject1: 57\n",
      "enter marks for student 3 in subject1: 58\n",
      "enter marks for student 3 in subject1: 59\n"
     ]
    },
    {
     "name": "stdout",
     "output_type": "stream",
     "text": [
      "Avg marks for student 1: 47\n",
      "Avg marks for student 2: 152\n",
      "Avg marks for student 3: 57\n"
     ]
    }
   ],
   "source": [
    "#the user will enter the marks for each student and subject\n",
    "S1_marks=[int(input(\"enter marks for student 1 in subject{}:\".format(+1)))for i in range(5)]\n",
    "S2_marks=[int(input(\"enter marks for student 2 in subject{}:\".format(+1)))for i in range(5)]\n",
    "S3_marks=[int(input(\"enter marks for student 3 in subject{}:\".format(+1)))for i in range(5)]\n",
    "\n",
    "#calculate the avg \n",
    "import statistics\n",
    "\n",
    "S1_avg= statistics.mean(S1_marks)\n",
    "S2_avg= statistics.mean(S2_marks)\n",
    "S3_avg= statistics.mean(S3_marks)\n",
    "\n",
    "#print avg marks for each student\n",
    "print(\"Avg marks for student 1:\",S1_avg)\n",
    "print(\"Avg marks for student 2:\",S2_avg)\n",
    "print(\"Avg marks for student 3:\",S3_avg)\n"
   ]
  },
  {
   "cell_type": "markdown",
   "id": "39fb8526",
   "metadata": {
    "id": "39fb8526"
   },
   "source": [
    "#### 5. Write a program to take a list as input containing results of 10 coin tosses as 'H' or 'T'. Jon gets a point for each 'T' and Tom gets a point for each 'H'. print the points recieved by both."
   ]
  },
  {
   "cell_type": "code",
   "execution_count": 1,
   "id": "83ad7dc6",
   "metadata": {
    "id": "83ad7dc6"
   },
   "outputs": [
    {
     "name": "stdin",
     "output_type": "stream",
     "text": [
      "Enter the result of 10 coin tosses as 'H' or 'T',separated by space: h\n"
     ]
    },
    {
     "name": "stdout",
     "output_type": "stream",
     "text": [
      "Jon's point: 0\n",
      "Tom's point: 0\n"
     ]
    }
   ],
   "source": [
    "#list of coin toss results\n",
    "coin_tosses=input(\"Enter the result of 10 coin tosses as 'H' or 'T',separated by space:\").split()\n",
    "\n",
    "#POINTS OF veriables\n",
    "jon_points= 0\n",
    "tom_points= 0\n",
    "\n",
    "for result in coin_tosses:\n",
    "    if result=='T':\n",
    "        jon_points+=1\n",
    "    if result=='H':\n",
    "        tom_points+=1\n",
    "        \n",
    "#print the point\n",
    "print(\"Jon's point:\",jon_points)\n",
    "print(\"Tom's point:\",tom_points)\n"
   ]
  },
  {
   "cell_type": "markdown",
   "id": "4a6dc391",
   "metadata": {
    "id": "4a6dc391"
   },
   "source": [
    "#### 6. Take two numbers as input and print the result after swapping them. (Without using multiple assignment and any extra variable)."
   ]
  },
  {
   "cell_type": "code",
   "execution_count": 5,
   "id": "1bcd0fe3",
   "metadata": {
    "id": "1bcd0fe3"
   },
   "outputs": [
    {
     "name": "stdin",
     "output_type": "stream",
     "text": [
      "Enter first numbers: 60\n",
      "Enter second numbers: 50\n"
     ]
    },
    {
     "name": "stdout",
     "output_type": "stream",
     "text": [
      "after swapping, a= 50 and b = 60\n"
     ]
    }
   ],
   "source": [
    "a=int(input(\"Enter first numbers:\"))\n",
    "b=int(input(\"Enter second numbers:\"))\n",
    "\n",
    "#useing \"^\" Bitwise operators\n",
    "a=a^b\n",
    "b=a^b\n",
    "a=a^b\n",
    "\n",
    "print(\"after swapping, a=\",a,\"and b =\",b)"
   ]
  },
  {
   "cell_type": "markdown",
   "id": "b0059e36",
   "metadata": {
    "id": "b0059e36"
   },
   "source": [
    "#### 7. Take a list as input in a single line containing 10 numbers as marks out of 100. The even positions in the list are marks of Tom and the odd positions are the marks of Jon. Calculate the average marks of both."
   ]
  },
  {
   "cell_type": "code",
   "execution_count": 16,
   "id": "ef40ed32",
   "metadata": {
    "id": "ef40ed32"
   },
   "outputs": [
    {
     "name": "stdin",
     "output_type": "stream",
     "text": [
      "Enter the marks here: 10,20,30,40,50,60,70,80,85,90\n"
     ]
    },
    {
     "name": "stdout",
     "output_type": "stream",
     "text": [
      "Avg marks of tom: 49.0\n",
      "Avg marks of jon: 58.0\n"
     ]
    }
   ],
   "source": [
    "# list will take input of marks by user\n",
    "marks=eval(input(\"Enter the marks here:\"))\n",
    "\n",
    "#by using slicing,the even positions in the list are marks of Tom and the odd positions are the marks of Jon\n",
    "tom_marks=marks[::2]\n",
    "jon_marks=marks[1::2]\n",
    "\n",
    "#get avg by using avg formula           -----> avg= sum()/len()\n",
    "tom_avg = sum(tom_marks)/len(tom_marks)\n",
    "jon_avg = sum(jon_marks)/len(jon_marks)\n",
    "\n",
    "#print the Avg of Tom & Jon\n",
    "print(\"Avg marks of tom:\",tom_avg)\n",
    "print(\"Avg marks of jon:\",jon_avg)"
   ]
  },
  {
   "cell_type": "markdown",
   "id": "f07dab7c",
   "metadata": {
    "id": "f07dab7c"
   },
   "source": [
    "#### 8. Take a string and a character as input. Print the result having the character between each word of the given string."
   ]
  },
  {
   "cell_type": "code",
   "execution_count": 19,
   "id": "a85ca910",
   "metadata": {
    "colab": {
     "base_uri": "https://localhost:8080/"
    },
    "executionInfo": {
     "elapsed": 8,
     "status": "ok",
     "timestamp": 1675744131872,
     "user": {
      "displayName": "Star Agile",
      "userId": "05958537219244458985"
     },
     "user_tz": -330
    },
    "id": "a85ca910",
    "outputId": "4464ab37-ebb1-4fda-f2c9-204f3c416701"
   },
   "outputs": [
    {
     "name": "stdin",
     "output_type": "stream",
     "text": [
      "Enter a string: hey im Gautam\n",
      "Enter a character: _\n"
     ]
    },
    {
     "name": "stdout",
     "output_type": "stream",
     "text": [
      "hey_im_Gautam\n"
     ]
    }
   ],
   "source": [
    "# create a string & char to take input from user\n",
    "string=input(\"Enter a string:\")\n",
    "char=input(\"Enter a character:\")\n",
    "\n",
    "#by using join() & split() operetor output will be match user condition\n",
    "output=char.join(string.split())\n",
    "\n",
    "print(output)\n"
   ]
  },
  {
   "cell_type": "markdown",
   "id": "a45320b7",
   "metadata": {
    "id": "a45320b7"
   },
   "source": [
    "#### 9. Create a dictionary having three items. Key of each item is the name of a student, value associated with each key is a list of marks in five subjects. Given this dictionary print the average score of each student."
   ]
  },
  {
   "cell_type": "code",
   "execution_count": 23,
   "id": "2vFaqcGP-MmK",
   "metadata": {
    "id": "2vFaqcGP-MmK"
   },
   "outputs": [
    {
     "name": "stdout",
     "output_type": "stream",
     "text": [
      "feroz has an average score of 86.80\n",
      "bala has an average score of 91.20\n",
      "swaty has an average score of 85.00\n"
     ]
    }
   ],
   "source": [
    "# importing statistics to caluculate avg\n",
    "import statistics\n",
    "\n",
    "#created dict with the given key is students and value is list of marks\n",
    "students = {'feroz': [85, 92, 78, 90, 89],'bala': [90, 88, 94, 89, 95],'swaty': [75, 80, 85, 90, 95]}\n",
    "\n",
    "# using For loop to make loop for getting avg or each student one by one, with the help of statistics \n",
    "for student, marks in students.items():\n",
    "    average = statistics.mean(marks)\n",
    "    print(f\"{student} has an average score of {average:.2f}\")"
   ]
  },
  {
   "cell_type": "markdown",
   "id": "aba63bd1",
   "metadata": {
    "id": "aba63bd1"
   },
   "source": [
    "#### 10. Take a string as input(may contain repetitive words), print a list consisting of unique words from the given string."
   ]
  },
  {
   "cell_type": "code",
   "execution_count": null,
   "id": "LAcgERg-NDMj",
   "metadata": {
    "id": "LAcgERg-NDMj"
   },
   "outputs": [],
   "source": [
    "s=\"i want to become i data scientist want\""
   ]
  },
  {
   "cell_type": "code",
   "execution_count": 3,
   "id": "306ed7f1-7c97-4d26-ad3e-fa8b4fbeaa8c",
   "metadata": {},
   "outputs": [
    {
     "name": "stdin",
     "output_type": "stream",
     "text": [
      "Enter a string:  gautam pandey gautam\n"
     ]
    },
    {
     "name": "stdout",
     "output_type": "stream",
     "text": [
      "['gautam', 'pandey']\n"
     ]
    }
   ],
   "source": [
    "# Take input from the user\n",
    "string = input(\"Enter a string: \")\n",
    "\n",
    "# Split the input string into words\n",
    "words = string.split()\n",
    "\n",
    "# Create a set of unique words\n",
    "unique_words = set(words)\n",
    "\n",
    "# Convert the set back to a list and sort it\n",
    "unique_word_list = sorted(list(unique_words))\n",
    "\n",
    "# Print the final list of unique words\n",
    "print(unique_word_list)\n"
   ]
  }
 ],
 "metadata": {
  "colab": {
   "provenance": []
  },
  "kernelspec": {
   "display_name": "Python 3 (ipykernel)",
   "language": "python",
   "name": "python3"
  },
  "language_info": {
   "codemirror_mode": {
    "name": "ipython",
    "version": 3
   },
   "file_extension": ".py",
   "mimetype": "text/x-python",
   "name": "python",
   "nbconvert_exporter": "python",
   "pygments_lexer": "ipython3",
   "version": "3.10.9"
  }
 },
 "nbformat": 4,
 "nbformat_minor": 5
}

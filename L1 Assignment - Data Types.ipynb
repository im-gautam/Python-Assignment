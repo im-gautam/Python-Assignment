{
 "cells": [
  {
   "cell_type": "markdown",
   "id": "5fad3b2a",
   "metadata": {
    "id": "5fad3b2a"
   },
   "source": [
    "# Assessment - 2 Gradable\n",
    "\n",
    "- Each question carries 3 marks\n",
    "- Marks will be assigned in terms of:\n",
    "    \n",
    "    **1. Expected output**\n",
    "    \n",
    "    **2. Quality and Explainability of code**\n",
    "\n",
    "    ***Go back through the script and type a comment above each line explaining in English what it does.***\n",
    "\n",
    "    **3. Copied code, if found, will result in 0 marks for that question. To avoid this make as much comments in the code to explain the approach**"
   ]
  },
  {
   "cell_type": "markdown",
   "id": "03363a58",
   "metadata": {
    "id": "03363a58"
   },
   "source": [
    "### 1.\n",
    "\n",
    "Write a Python program to perform following tasks on a list\n",
    "\n",
    "<ol>\n",
    "    <li>Create an empty list with name l1</li>\n",
    "    <li>Add atleast 5 number to the l1</li>\n",
    "    <li>Add 100 at 2<sup>nd</sup> position</li>\n",
    "    <li>Add 1000 at front of the l1</li>\n",
    "    <li>Delete element at 3<sup>rd</sup> position</li>\n",
    "    <li>Display elements at even position</li>\n",
    "    <li>Display elements in reverse order</li>\n",
    "</ol>"
   ]
  },
  {
   "cell_type": "code",
   "execution_count": 20,
   "id": "73d7418b",
   "metadata": {
    "id": "73d7418b"
   },
   "outputs": [],
   "source": [
    "l1=[] #created an empty list with name l1"
   ]
  },
  {
   "cell_type": "code",
   "execution_count": 22,
   "id": "b26cdb5f",
   "metadata": {},
   "outputs": [
    {
     "name": "stdout",
     "output_type": "stream",
     "text": [
      "[1, 2, 3, 4, 5]\n"
     ]
    }
   ],
   "source": [
    "l1=[1,2,3,4,5]\n",
    "print(l1)  #Added 5 number to the l1"
   ]
  },
  {
   "cell_type": "code",
   "execution_count": 23,
   "id": "fe937936",
   "metadata": {},
   "outputs": [
    {
     "name": "stdout",
     "output_type": "stream",
     "text": [
      "[1, 100, 2, 3, 4, 5]\n"
     ]
    }
   ],
   "source": [
    "l1.insert(1, 100)\n",
    "print(l1) #Added 100 at index [1]"
   ]
  },
  {
   "cell_type": "code",
   "execution_count": 24,
   "id": "aa24d801",
   "metadata": {},
   "outputs": [
    {
     "name": "stdout",
     "output_type": "stream",
     "text": [
      "[1000, 1, 100, 2, 3, 4, 5]\n"
     ]
    }
   ],
   "source": [
    "l1.insert(0, 1000)\n",
    "print(l1)  #Added 1000 at index [0]"
   ]
  },
  {
   "cell_type": "code",
   "execution_count": 27,
   "id": "c3aac7c8",
   "metadata": {},
   "outputs": [
    {
     "name": "stdout",
     "output_type": "stream",
     "text": [
      "[1000, 1, 2, 3, 4, 5]\n"
     ]
    }
   ],
   "source": [
    "del l1[2]\n",
    "print(l1)  # deleted the 3rd element from l1"
   ]
  },
  {
   "cell_type": "code",
   "execution_count": 40,
   "id": "7b9fd783",
   "metadata": {},
   "outputs": [
    {
     "name": "stdout",
     "output_type": "stream",
     "text": [
      "[1, 3, 5]\n"
     ]
    }
   ],
   "source": [
    "even_element=[l1[i]for i in range(1,len(l1),2)]\n",
    "print(even_element)  #only even position element will be display from l1"
   ]
  },
  {
   "cell_type": "code",
   "execution_count": 41,
   "id": "d6fb8bf6",
   "metadata": {},
   "outputs": [
    {
     "name": "stdout",
     "output_type": "stream",
     "text": [
      "[5, 4, 3, 2, 1, 1000]\n"
     ]
    }
   ],
   "source": [
    "l1.reverse()\n",
    "print(l1) #All element will be in reverse order"
   ]
  },
  {
   "cell_type": "markdown",
   "id": "3d5efe73",
   "metadata": {
    "id": "3d5efe73"
   },
   "source": [
    "### 2. \n",
    "\n",
    "Grab ``StarAgile`` from the following Dictionaries\n",
    "\n",
    "d_difficult = {'k1':[{'nest_key':['this is deep',['StarAgile']]}]}\n",
    "\n",
    "d_irritating = {'k1':[1,2,{'k2':['this is not easy',{'VeryIrriating':[1,2,['StarAgile']]}]}]}"
   ]
  },
  {
   "cell_type": "code",
   "execution_count": 51,
   "id": "9fb35ce9",
   "metadata": {
    "id": "9fb35ce9"
   },
   "outputs": [
    {
     "name": "stdout",
     "output_type": "stream",
     "text": [
      "StarAgile\n"
     ]
    }
   ],
   "source": [
    "d_difficult={'k1':[{'nest_key':['this is deep',['StarAgile']]}]}\n",
    "star_agile= d_difficult['k1'][0]['nest_key'][1][0]\n",
    "print(star_agile)\n",
    "\n",
    "#in the dict d_difficult 'k1' is the list its first element in dict, which is accessed using index [0]\n",
    "#and dict has 'nest_key' which is also a list, frist element in list is accessed using the index[0] which is str\n",
    "#the second element in the list is accessed using the index[1], which is a list containig 'StarAgile' at index [0]\n"
   ]
  },
  {
   "cell_type": "code",
   "execution_count": 55,
   "id": "6e5ee03c",
   "metadata": {},
   "outputs": [
    {
     "name": "stdout",
     "output_type": "stream",
     "text": [
      "StarAgile\n"
     ]
    }
   ],
   "source": [
    "d_irritating= {'k1':[1,2,{'k2':['this is not easy',{'VeryIrriating':[1,2,['StarAgile']]}]}]}\n",
    "star_agile= d_irritating['k1'][2]['k2'][1]['VeryIrriating'][2][0]\n",
    "print(star_agile)\n",
    "\n",
    "#here'd_irritating['k1'][2] gives us dict {'k2'}\n",
    "#{'k2'} give us the list \n",
    "#list gives us dict \n",
    "#dict gives ud list\n",
    "# and the final list has index [0,[1,2]\n",
    "#and[2]is str 'StarAgile' which has index [0]"
   ]
  },
  {
   "cell_type": "markdown",
   "id": "0540a188",
   "metadata": {
    "id": "0540a188"
   },
   "source": [
    "### 3.\n",
    "\n",
    "Write a program to accept a string from the user and display characters that are present at an even index number.\n",
    "\n",
    "For example, str = \"judgemental\" so you should display ‘j’, ‘d’, ‘e’, ‘e’, ‘t’, ‘l’."
   ]
  },
  {
   "cell_type": "code",
   "execution_count": 12,
   "id": "635156d2",
   "metadata": {},
   "outputs": [
    {
     "name": "stdin",
     "output_type": "stream",
     "text": [
      "Enter the name:  StarAgile\n"
     ]
    },
    {
     "name": "stdout",
     "output_type": "stream",
     "text": [
      "('S', 'a', 'A', 'i', 'e')\n"
     ]
    }
   ],
   "source": [
    "S=tuple(input(\"Enter the name: \"))                   #user can put the value in \"Enter a string\" \n",
    "\n",
    "#And output will be in string format with even index characters \n",
    "print(S[0:len(S):2])"
   ]
  },
  {
   "cell_type": "code",
   "execution_count": null,
   "id": "64e8293c",
   "metadata": {
    "id": "e0884cde"
   },
   "outputs": [],
   "source": [
    " 4. \n",
    "\n",
    "Convert the Float Value of '3.8' into Integer, Complex, Binary and Hexidecimal format"
   ]
  },
  {
   "cell_type": "code",
   "execution_count": null,
   "id": "99555c16",
   "metadata": {
    "id": "99555c16"
   },
   "outputs": [],
   "source": [
    "float_value= 3.8\n",
    "\n",
    "#converting float value into int by using int()\n",
    "int_value = int(float_value)\n",
    "print(int_value)"
   ]
  },
  {
   "cell_type": "code",
   "execution_count": 31,
   "id": "b1e2aec5",
   "metadata": {
    "id": "99555c16"
   },
   "outputs": [
    {
     "name": "stdout",
     "output_type": "stream",
     "text": [
      "(3.8+0j)\n"
     ]
    }
   ],
   "source": [
    "float_value= 3.8\n",
    "\n",
    "#converting float value in complex value by using complex()\n",
    "complex_value = complex(float_value)\n",
    "print(complex_value)"
   ]
  },
  {
   "cell_type": "code",
   "execution_count": 34,
   "id": "f32fabbf",
   "metadata": {
    "id": "99555c16"
   },
   "outputs": [
    {
     "name": "stdout",
     "output_type": "stream",
     "text": [
      "0b11\n"
     ]
    }
   ],
   "source": [
    "float_value= 3.8\n",
    "\n",
    "#coverting float value in int and then convert the value into binary.\n",
    "binary_value = bin(int(float_value))\n",
    "print(binary_value)"
   ]
  },
  {
   "cell_type": "code",
   "execution_count": 36,
   "id": "bd8649de",
   "metadata": {
    "id": "99555c16"
   },
   "outputs": [
    {
     "name": "stdout",
     "output_type": "stream",
     "text": [
      "0x3\n"
     ]
    }
   ],
   "source": [
    "float_value= 3.8\n",
    "\n",
    "#converting float value in int and then convert the value into hexidecimal.\n",
    "hex_value = hex(int(float_value))\n",
    "print(hex_value)"
   ]
  },
  {
   "cell_type": "markdown",
   "id": "25187f2c",
   "metadata": {
    "id": "25187f2c"
   },
   "source": [
    "### 5. \n",
    "\n",
    "Write a program to accept five names from the user and store it in a Tuple 'T1'"
   ]
  },
  {
   "cell_type": "code",
   "execution_count": 6,
   "id": "0deb6345",
   "metadata": {},
   "outputs": [
    {
     "name": "stdin",
     "output_type": "stream",
     "text": [
      "Enter a name: one\n",
      "Enter a name: two\n",
      "Enter a name: three\n",
      "Enter a name: four\n",
      "Enter a name: five\n"
     ]
    },
    {
     "name": "stdout",
     "output_type": "stream",
     "text": [
      "('one', 'two', 'three', 'four', 'five')\n"
     ]
    }
   ],
   "source": [
    "T1=tuple()                             #create empty tuple name  as T1\n",
    "\n",
    "#range of T1 will be 5\n",
    "for i in range(5):  \n",
    "   name=input(\"Enter a name:\")         #\"enter a name\" will accept input given by user \n",
    "   T1+=(name,)                         #adding value in \"T1\" by using Assignment operators\n",
    "print(T1)"
   ]
  }
 ],
 "metadata": {
  "colab": {
   "provenance": []
  },
  "kernelspec": {
   "display_name": "Python 3 (ipykernel)",
   "language": "python",
   "name": "python3"
  },
  "language_info": {
   "codemirror_mode": {
    "name": "ipython",
    "version": 3
   },
   "file_extension": ".py",
   "mimetype": "text/x-python",
   "name": "python",
   "nbconvert_exporter": "python",
   "pygments_lexer": "ipython3",
   "version": "3.10.9"
  }
 },
 "nbformat": 4,
 "nbformat_minor": 5
}

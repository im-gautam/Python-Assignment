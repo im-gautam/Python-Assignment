{
 "cells": [
  {
   "cell_type": "markdown",
   "id": "3a10df7a",
   "metadata": {
    "id": "3a10df7a"
   },
   "source": [
    "# Conditional Statements\n",
    "- Write solution of each question in the cell given below the corresponsing question."
   ]
  },
  {
   "cell_type": "markdown",
   "id": "60c2d89a",
   "metadata": {
    "id": "60c2d89a"
   },
   "source": [
    "#### 1. Take a list of numbers as input. Print whether the average is even or odd."
   ]
  },
  {
   "cell_type": "code",
   "execution_count": 5,
   "id": "74d8f988",
   "metadata": {
    "id": "74d8f988"
   },
   "outputs": [
    {
     "name": "stdin",
     "output_type": "stream",
     "text": [
      "Enter the number: 10 20 30 40 10 \n"
     ]
    },
    {
     "name": "stdout",
     "output_type": "stream",
     "text": [
      "Avgrage is even:\n"
     ]
    }
   ],
   "source": [
    "#take input\n",
    "l1=list(map(int,input(\"Enter the number:\",).split()))\n",
    "\n",
    "#apply avg formula\n",
    "avg= sum(l1)/len(l1)\n",
    "        \n",
    "# check the avg is even or odd\n",
    "if avg %2==0:\n",
    "    print(\"Avgrage is even:\")\n",
    "else :\n",
    "    print(\"Avgrage is odd:\")"
   ]
  },
  {
   "cell_type": "markdown",
   "id": "4846bb19",
   "metadata": {
    "id": "4846bb19"
   },
   "source": [
    "#### 2. Take three strings as input. Calculate the number of words in each string and find out the list having highest number of words."
   ]
  },
  {
   "cell_type": "code",
   "execution_count": 15,
   "id": "b03ac29d-910d-4faf-ba25-4a637e7832d1",
   "metadata": {},
   "outputs": [
    {
     "name": "stdin",
     "output_type": "stream",
     "text": [
      "Enter the first string:  gautam \n",
      "Enter the second string:  dharmendra\n",
      "Enter the third string:  pandey\n"
     ]
    },
    {
     "name": "stdout",
     "output_type": "stream",
     "text": [
      "The string with the highest length is: dharmendra\n"
     ]
    }
   ],
   "source": [
    "#take three string input \n",
    "string1 = input(\"Enter the first string: \")\n",
    "string2 = input(\"Enter the second string: \")\n",
    "string3 = input(\"Enter the third string: \")\n",
    "\n",
    "#find max number of word string\n",
    "max_string = max(string1, string2, string3, key=len)\n",
    "\n",
    "print(f\"The string with the highest length is: {max_string}\")"
   ]
  },
  {
   "cell_type": "markdown",
   "id": "0e0d8196",
   "metadata": {
    "id": "0e0d8196"
   },
   "source": [
    "#### 3. Take four numbers as input in a single line. Find out the largest number."
   ]
  },
  {
   "cell_type": "code",
   "execution_count": 17,
   "id": "2b724327",
   "metadata": {
    "id": "2b724327"
   },
   "outputs": [
    {
     "name": "stdin",
     "output_type": "stream",
     "text": [
      "Enter a sequence of numbers separated by spaces:  44 55 66 77\n"
     ]
    },
    {
     "name": "stdout",
     "output_type": "stream",
     "text": [
      "The largest number is: 77\n"
     ]
    }
   ],
   "source": [
    "numbers = input(\"Enter a sequence of numbers separated by spaces: \")\n",
    "\n",
    "# Split the input string into a list of strings\n",
    "number_list = numbers.split()\n",
    "\n",
    "# Convert the list of strings to a list of integers\n",
    "number_list = [int(num) for num in number_list]\n",
    "\n",
    "largest_number = max(number_list)\n",
    "\n",
    "print(f\"The largest number is: {largest_number}\")\n"
   ]
  },
  {
   "cell_type": "markdown",
   "id": "16c0440a",
   "metadata": {
    "id": "16c0440a"
   },
   "source": [
    "#### 4. Take four numbers as input and find the second largest numer."
   ]
  },
  {
   "cell_type": "code",
   "execution_count": 19,
   "id": "795ee65e",
   "metadata": {
    "id": "795ee65e"
   },
   "outputs": [
    {
     "name": "stdin",
     "output_type": "stream",
     "text": [
      "Enter a sequence of numbers separated by spaces:  44 55 66 77\n"
     ]
    },
    {
     "name": "stdout",
     "output_type": "stream",
     "text": [
      "The second largest number is: 66\n"
     ]
    }
   ],
   "source": [
    "numbers = input(\"Enter a sequence of numbers separated by spaces: \")\n",
    "\n",
    "# Split the input string into a list of strings\n",
    "number_list = numbers.split()\n",
    "\n",
    "# Convert the list of strings to a list of integers\n",
    "number_list = [int(num) for num in number_list]\n",
    "\n",
    "largest_number = max(number_list)\n",
    "\n",
    "number_list.remove(largest_number)\n",
    "\n",
    "second_largest_number= max(number_list)\n",
    "\n",
    "print(f\"The second largest number is: {second_largest_number}\")\n"
   ]
  },
  {
   "cell_type": "markdown",
   "id": "2f6641a4",
   "metadata": {
    "id": "2f6641a4"
   },
   "source": [
    "#### 5. Create a dictionary having three items. Key of each item is the name of a student, value associated with each key is a list of marks in five subjects. Given this dictionary print the top and lowest scorers."
   ]
  },
  {
   "cell_type": "code",
   "execution_count": 3,
   "id": "F5HgtrHdofCn",
   "metadata": {
    "id": "F5HgtrHdofCn"
   },
   "outputs": [
    {
     "name": "stdout",
     "output_type": "stream",
     "text": [
      "The student with the highest score is bala with a total score of 452.\n",
      "The student with the lowest score is vaibhav with a total score of 376.\n"
     ]
    }
   ],
   "source": [
    "# create the dictionary\n",
    "scores = {'gautam': [85, 90, 92, 89, 93],'vaibhav': [72, 68, 75, 79, 82],'bala': [91, 94, 89, 88, 90]}\n",
    "\n",
    "# find the highest and lowest scores\n",
    "highest = None\n",
    "lowest = None\n",
    "for student, grades in scores.items():\n",
    "    total = sum(grades)\n",
    "    if highest is None or total > highest[1]:\n",
    "        highest = (student, total)\n",
    "    if lowest is None or total < lowest[1]:\n",
    "        lowest = (student, total)\n",
    "\n",
    "# print the results\n",
    "print(f\"The student with the highest score is {highest[0]} with a total score of {highest[1]}.\")\n",
    "print(f\"The student with the lowest score is {lowest[0]} with a total score of {lowest[1]}.\")"
   ]
  },
  {
   "cell_type": "markdown",
   "id": "64db0791",
   "metadata": {
    "id": "64db0791"
   },
   "source": [
    "#### 6. Create a dictionary (called data) of having at least 5 items : Usernames as keys and Passwords as values. Write a program that takes a username and a password as input. If the credentials match any iteam in the given dictionary data then print acces granted otherwise print whether username, password or both are wrong."
   ]
  },
  {
   "cell_type": "code",
   "execution_count": 5,
   "id": "1ca5ccba",
   "metadata": {
    "id": "1ca5ccba"
   },
   "outputs": [
    {
     "name": "stdin",
     "output_type": "stream",
     "text": [
      "Enter your username:  user1\n",
      "Enter your password:  password1\n"
     ]
    },
    {
     "name": "stdout",
     "output_type": "stream",
     "text": [
      "Access granted!\n"
     ]
    }
   ],
   "source": [
    "# create the dictionary\n",
    "data = {'user1': 'password1','user2': 'password2','user3': 'password3','user4': 'password4','user5': 'password5'}\n",
    "\n",
    "# prompt the user for their credentials\n",
    "username = input(\"Enter your username: \")\n",
    "password = input(\"Enter your password: \")\n",
    "\n",
    "# check if the credentials match\n",
    "if username in data and data[username] == password:\n",
    "    print(\"Access granted!\")\n",
    "else:\n",
    "    if username not in data:\n",
    "        print(\"Username is wrong.\")\n",
    "    if username in data and data[username] != password:\n",
    "        print(\"Password is wrong.\")"
   ]
  },
  {
   "cell_type": "markdown",
   "id": "27c56bb8",
   "metadata": {
    "id": "27c56bb8"
   },
   "source": [
    "#### 7. Take a list as input in a single line containing 15 numbers as marks out of 100. The first five numbers in the list are marks of Tom, the middle 5 numbers are marks of Bob and the last 5 are the marks of Jon. Find out the top and lowest scorer."
   ]
  },
  {
   "cell_type": "code",
   "execution_count": 6,
   "id": "-FrUlDTsn867",
   "metadata": {
    "id": "-FrUlDTsn867"
   },
   "outputs": [
    {
     "name": "stdin",
     "output_type": "stream",
     "text": [
      "Enter the marks of Tom, Bob and Jon separated by spaces:  45 55 65 75 85 95 95 85 75 45 65 45 65 95 75\n"
     ]
    },
    {
     "name": "stdout",
     "output_type": "stream",
     "text": [
      "The top scorer is Bob with a total score of 395.\n",
      "The lowest scorer is Tom with a total score of 325.\n"
     ]
    }
   ],
   "source": [
    "# take input\n",
    "marks = list(map(int, input(\"Enter the marks of Tom, Bob and Jon separated by spaces: \").split()))\n",
    "\n",
    "# separate by Tom, Bob and Jon\n",
    "tom_marks = marks[:5]\n",
    "bob_marks = marks[5:10]\n",
    "jon_marks = marks[10:]\n",
    "\n",
    "# calculate the total marks of each student\n",
    "tom_total = sum(tom_marks)\n",
    "bob_total = sum(bob_marks)\n",
    "jon_total = sum(jon_marks)\n",
    "\n",
    "# find the top and lowest scorer\n",
    "top_scorer = None\n",
    "lowest_scorer = None\n",
    "for student, total in [('Tom', tom_total), ('Bob', bob_total), ('Jon', jon_total)]:\n",
    "    if top_scorer is None or total > top_scorer[1]:\n",
    "        top_scorer = (student, total)\n",
    "    if lowest_scorer is None or total < lowest_scorer[1]:\n",
    "        lowest_scorer = (student, total)\n",
    "\n",
    "# print the results\n",
    "print(f\"The top scorer is {top_scorer[0]} with a total score of {top_scorer[1]}.\")\n",
    "print(f\"The lowest scorer is {lowest_scorer[0]} with a total score of {lowest_scorer[1]}.\")"
   ]
  },
  {
   "cell_type": "markdown",
   "id": "20f59542",
   "metadata": {
    "id": "20f59542"
   },
   "source": [
    "#### 8. Take a number as input and print whether the number is a multiple of 3,5 or both."
   ]
  },
  {
   "cell_type": "code",
   "execution_count": 17,
   "id": "otWg3MXaYing",
   "metadata": {
    "id": "otWg3MXaYing"
   },
   "outputs": [
    {
     "name": "stdin",
     "output_type": "stream",
     "text": [
      "enter number: 30\n"
     ]
    },
    {
     "name": "stdout",
     "output_type": "stream",
     "text": [
      "number multiple by 3\n",
      "number multiple by 5\n",
      "number multiple by 15\n"
     ]
    }
   ],
   "source": [
    "#take input as number\n",
    "number=int(input(\"enter number:\"))\n",
    "\n",
    "#check if it is multiple by 15,3,5 or all \n",
    "if number % 15==0:\n",
    "    if number%3==0:\n",
    "        print(\"number multiple by 3\")\n",
    "    else:\n",
    "        print(\"number does not multiple by 3\")\n",
    "    if number%5==0:\n",
    "        print(\"number multiple by 5\")\n",
    "    else:\n",
    "        print(\"number does not multiple by 5\")\n",
    "    print(\"number multiple by 15\")\n",
    "else:\n",
    "    print(\"number does not multiple by 3,5 or both\")"
   ]
  },
  {
   "cell_type": "markdown",
   "id": "b770e791",
   "metadata": {
    "id": "b770e791"
   },
   "source": [
    "#### 9. Write a program to take three strings as input and print the string having second largest number of words."
   ]
  },
  {
   "cell_type": "code",
   "execution_count": 2,
   "id": "76adbc2a-c8ca-4512-89e0-d100caad08bb",
   "metadata": {},
   "outputs": [
    {
     "name": "stdin",
     "output_type": "stream",
     "text": [
      "Enter string 1:  rahul\n",
      "Enter string 2:  gautam\n",
      "Enter string 3:  vaibhav\n"
     ]
    },
    {
     "name": "stdout",
     "output_type": "stream",
     "text": [
      "The string with the second largest number of words is: gautam\n"
     ]
    }
   ],
   "source": [
    "#empty string\n",
    "strings = []\n",
    "\n",
    "#for loop for create range and append value in string\n",
    "for i in range(3):\n",
    "    string = input(f\"Enter string {i+1}: \")\n",
    "    strings.append(string)\n",
    "\n",
    "# Sort the strings by the number of words in each string\n",
    "sorted_strings = sorted(strings, key=lambda s: len(s.split()))\n",
    "\n",
    "# Get the second last string in the sorted list\n",
    "second_largest_string = sorted_strings[-2]\n",
    "\n",
    "print(f\"The string with the second largest number of words is: {second_largest_string}\")"
   ]
  },
  {
   "cell_type": "code",
   "execution_count": null,
   "id": "aa814dba-2ea4-48ca-9b5d-295c34f84edb",
   "metadata": {
    "id": "5a485c8c"
   },
   "outputs": [],
   "source": [
    "10. Write a program to take four strings as input and print the string having third highest number of words."
   ]
  },
  {
   "cell_type": "code",
   "execution_count": 30,
   "id": "391baea2-6945-4ae7-9239-92bac3bfc18d",
   "metadata": {},
   "outputs": [
    {
     "name": "stdin",
     "output_type": "stream",
     "text": [
      "Enter string 1:  babu\n",
      "Enter string 2:  rahul\n",
      "Enter string 3:  vaibhav\n",
      "Enter string 4:  gautam\n"
     ]
    },
    {
     "name": "stdout",
     "output_type": "stream",
     "text": [
      "The string with the third largest number of words is: rahul\n"
     ]
    }
   ],
   "source": [
    "#empty string\n",
    "strings = []\n",
    "\n",
    "#for loop for create range and append value in string\n",
    "for i in range(4):\n",
    "    string = input(f\"Enter string {i+1}: \")\n",
    "    strings.append(string)\n",
    "#sort the string by thr number of words in each string\n",
    "third_largest_string = sorted(strings, key=lambda s: len(s.split()))[-3]\n",
    "\n",
    "print(f\"The string with the third largest number of words is: {third_largest_string}\")"
   ]
  }
 ],
 "metadata": {
  "colab": {
   "provenance": []
  },
  "kernelspec": {
   "display_name": "Python 3 (ipykernel)",
   "language": "python",
   "name": "python3"
  },
  "language_info": {
   "codemirror_mode": {
    "name": "ipython",
    "version": 3
   },
   "file_extension": ".py",
   "mimetype": "text/x-python",
   "name": "python",
   "nbconvert_exporter": "python",
   "pygments_lexer": "ipython3",
   "version": "3.10.9"
  }
 },
 "nbformat": 4,
 "nbformat_minor": 5
}

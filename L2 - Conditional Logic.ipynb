{
 "cells": [
  {
   "cell_type": "markdown",
   "id": "c6ec5c42",
   "metadata": {
    "id": "c6ec5c42"
   },
   "source": [
    "# Assessment - 3 Gradable\n",
    "\n",
    "- Each question carries 3 or 4 marks\n",
    "- Marks will be assigned in terms of:\n",
    "    \n",
    "    **1. Expected output**\n",
    "    \n",
    "    **2. Quality and Explainability of code**\n",
    "\n",
    "    ***Go back through the script and type a comment above each line explaining in English what it does.***\n",
    "\n",
    "    **3. Copied code, if found, will result in 0 marks for that question. To avoid this make as much comments in the code to explain the approach**"
   ]
  },
  {
   "cell_type": "markdown",
   "id": "8698053e",
   "metadata": {
    "id": "8698053e"
   },
   "source": [
    "### 1.\n",
    "\n",
    "Go through the string below and if the length of a word is even print \"even!\"\n",
    "\n",
    "string = 'I know how to print every word in this sentence that has an even number of letters'"
   ]
  },
  {
   "cell_type": "code",
   "execution_count": 1,
   "id": "4dec28a9",
   "metadata": {
    "id": "4dec28a9"
   },
   "outputs": [
    {
     "name": "stdout",
     "output_type": "stream",
     "text": [
      "even!\n"
     ]
    }
   ],
   "source": [
    "string = \"i know how to print every word in this sentence that has an even number of letters\"\n",
    "\n",
    "#length of string\n",
    "word=len(string)\n",
    "\n",
    "#check if string length is even or odd\n",
    "if word % 2==0:\n",
    "    print(\"even!\")\n",
    "else :\n",
    "    print(\"odd\")\n",
    "    \n"
   ]
  },
  {
   "cell_type": "markdown",
   "id": "8569bc4e",
   "metadata": {
    "id": "8569bc4e"
   },
   "source": [
    "### 2. \n",
    "\n",
    "Write a program to check given number is odd or even\n",
    "\n",
    "Hint:\n",
    "- 20 is even\n",
    "- 27 is odd"
   ]
  },
  {
   "cell_type": "code",
   "execution_count": 2,
   "id": "9ccfca15",
   "metadata": {
    "id": "9ccfca15"
   },
   "outputs": [
    {
     "name": "stdin",
     "output_type": "stream",
     "text": [
      "enter the numbers: 20\n"
     ]
    },
    {
     "name": "stdout",
     "output_type": "stream",
     "text": [
      "20 is even\n"
     ]
    }
   ],
   "source": [
    "#take input \n",
    "number = int(input(\"enter the numbers:\"))\n",
    "\n",
    "#check if number is even or odd\n",
    "if number % 2==0:\n",
    "    print(\"{} is even\".format(number))\n",
    "else:\n",
    "    print(\"{} is odd\".format(number))"
   ]
  },
  {
   "cell_type": "markdown",
   "id": "40759409",
   "metadata": {
    "id": "40759409"
   },
   "source": [
    "### 3.\n",
    "\n",
    "Write a program to check given number is divisible by 6 or not\n",
    "\n",
    "Hint:\n",
    "24 is divisible by 6\n",
    "27 is not divisible by 6"
   ]
  },
  {
   "cell_type": "code",
   "execution_count": 3,
   "id": "f7409469",
   "metadata": {
    "id": "f7409469"
   },
   "outputs": [
    {
     "name": "stdin",
     "output_type": "stream",
     "text": [
      "enter the number: 24\n"
     ]
    },
    {
     "name": "stdout",
     "output_type": "stream",
     "text": [
      "24 is divisible by 6\n"
     ]
    }
   ],
   "source": [
    "#take input \n",
    "number = int(input(\"enter the number:\"))\n",
    "\n",
    "#check if number divisible by 6 or not\n",
    "if number % 6==0:\n",
    "    print(\"{} is divisible by 6\".format(number))\n",
    "else:\n",
    "    print(\"{} is not divisible by 6\".format(number))\n",
    "    "
   ]
  },
  {
   "cell_type": "markdown",
   "id": "0dd3847a",
   "metadata": {
    "id": "0dd3847a"
   },
   "source": [
    "### 4. \n",
    "\n",
    "Create a list containing the following 3 elements:\n",
    "\n",
    "- Subject person had taken\n",
    "- Marks Achieved\n",
    "- a boolean value showing previous programming experience\n",
    "\n",
    "print all details and also print person has programming experience or not"
   ]
  },
  {
   "cell_type": "code",
   "execution_count": 4,
   "id": "9a4124b4-eca3-4795-8ce3-0e07f11a7c57",
   "metadata": {},
   "outputs": [
    {
     "name": "stdin",
     "output_type": "stream",
     "text": [
      "subject name math\n",
      "marks 65\n",
      "enter the year of experience \n"
     ]
    },
    {
     "name": "stdout",
     "output_type": "stream",
     "text": [
      "subject: math\n",
      "marks: 65\n",
      "boolean False\n",
      "person does not have programming experience\n"
     ]
    }
   ],
   "source": [
    "#take input in list\n",
    "l2=[input(\"subject name\"),int(input(\"marks\")),bool(input(\"enter the year of experience\"))]\n",
    "\n",
    "#print elements \n",
    "print(\"subject:\",l2[0])\n",
    "print(\"marks:\", l2[1])\n",
    "print(\"boolean\", l2[2])\n",
    "\n",
    "# check if person has programming experience or not\n",
    "if l2[2]==0:\n",
    "    print(\"person does not have programming experience\")\n",
    "else:\n",
    "    print(\"person has programming experience\")\n"
   ]
  },
  {
   "cell_type": "markdown",
   "id": "a54510f0",
   "metadata": {
    "id": "a54510f0"
   },
   "source": [
    "5.\n",
    "\n",
    "Write a program to check sum of all elements in a list is greater than 100 or not\n",
    "\n",
    "Hint:\n",
    "- [11, 13, 17, 19, 11] --> sum is not greater than 100\n",
    "- [24, 36, 30, 31, 42] --> sum is greater than 100"
   ]
  },
  {
   "cell_type": "code",
   "execution_count": 5,
   "id": "dd4a4f24-0f67-42d5-a6ad-c17b31df897b",
   "metadata": {
    "id": "5d53ba1f"
   },
   "outputs": [
    {
     "name": "stdin",
     "output_type": "stream",
     "text": [
      "enter the number with seprate space 25 15 10 15 20\n"
     ]
    },
    {
     "name": "stdout",
     "output_type": "stream",
     "text": [
      "sum is not greater than 100\n"
     ]
    }
   ],
   "source": [
    "#take input\n",
    "l3=list(map(int,input(\"enter the number with seprate space\").split()))\n",
    "\n",
    "#sum of list\n",
    "sum_l3 = sum(l3) \n",
    "\n",
    "#check if sum is > than 100 or not\n",
    "if sum_l3 > 100:\n",
    "    print(\"sum is greater than 100\")\n",
    "else:\n",
    "    print(\"sum is not greater than 100\")\n"
   ]
  }
 ],
 "metadata": {
  "colab": {
   "provenance": []
  },
  "kernelspec": {
   "display_name": "Python 3 (ipykernel)",
   "language": "python",
   "name": "python3"
  },
  "language_info": {
   "codemirror_mode": {
    "name": "ipython",
    "version": 3
   },
   "file_extension": ".py",
   "mimetype": "text/x-python",
   "name": "python",
   "nbconvert_exporter": "python",
   "pygments_lexer": "ipython3",
   "version": "3.10.9"
  }
 },
 "nbformat": 4,
 "nbformat_minor": 5
}
